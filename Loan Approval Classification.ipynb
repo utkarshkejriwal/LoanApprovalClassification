{
 "cells": [
  {
   "cell_type": "markdown",
   "id": "8a52e7c4",
   "metadata": {
    "papermill": {
     "duration": 0.016453,
     "end_time": "2023-02-19T15:47:09.475682",
     "exception": false,
     "start_time": "2023-02-19T15:47:09.459229",
     "status": "completed"
    },
    "tags": []
   },
   "source": [
    "# Loan Approval Classification"
   ]
  },
  {
   "cell_type": "markdown",
   "id": "81115185",
   "metadata": {
    "papermill": {
     "duration": 0.014848,
     "end_time": "2023-02-19T15:47:09.506174",
     "exception": false,
     "start_time": "2023-02-19T15:47:09.491326",
     "status": "completed"
    },
    "tags": []
   },
   "source": [
    "## Import , Understand & Preprocess"
   ]
  },
  {
   "cell_type": "code",
   "execution_count": 1,
   "id": "52392da7",
   "metadata": {
    "execution": {
     "iopub.execute_input": "2023-02-19T15:47:09.540062Z",
     "iopub.status.busy": "2023-02-19T15:47:09.539467Z",
     "iopub.status.idle": "2023-02-19T15:47:10.540506Z",
     "shell.execute_reply": "2023-02-19T15:47:10.539179Z"
    },
    "papermill": {
     "duration": 1.021423,
     "end_time": "2023-02-19T15:47:10.543170",
     "exception": false,
     "start_time": "2023-02-19T15:47:09.521747",
     "status": "completed"
    },
    "tags": []
   },
   "outputs": [],
   "source": [
    "import numpy as np\n",
    "import pandas as pd\n",
    "import matplotlib.pyplot as plt\n",
    "import seaborn as sns"
   ]
  },
  {
   "cell_type": "markdown",
   "id": "d048d7eb",
   "metadata": {
    "papermill": {
     "duration": 0.015083,
     "end_time": "2023-02-19T15:47:10.574003",
     "exception": false,
     "start_time": "2023-02-19T15:47:10.558920",
     "status": "completed"
    },
    "tags": []
   },
   "source": [
    "### Data Columns\n",
    "_____\n",
    "* no_of_dependents: Range(0,5)\n",
    "* education: Not Graduate = 0, Graduate = 1\n",
    "* self_employed: No = 0, Yes = 1\n",
    "* income_annum: Range(200000,9900000)\n",
    "* loan_amount: Range(300000,39500000)\n",
    "* loan_term: Range(2,20)\n",
    "* cibil_score: Range(300,900)\n",
    "* residential_assets_value: Range(-100000,29100000)\n",
    "* commercial_assets_value: Range(0,19400000)\n",
    "* luxury_assets_value: Range(300000,39200000)\n",
    "* bank_asset_value: Range(0,14700000)\n",
    "* loan_status: Rejected = 0, Approved = 1\n",
    "\n",
    "##### Note: Data processed using rapid miner"
   ]
  },
  {
   "cell_type": "code",
   "execution_count": 2,
   "id": "2359657d",
   "metadata": {
    "execution": {
     "iopub.execute_input": "2023-02-19T15:47:10.608904Z",
     "iopub.status.busy": "2023-02-19T15:47:10.607814Z",
     "iopub.status.idle": "2023-02-19T15:47:10.677376Z",
     "shell.execute_reply": "2023-02-19T15:47:10.676211Z"
    },
    "papermill": {
     "duration": 0.090326,
     "end_time": "2023-02-19T15:47:10.680223",
     "exception": false,
     "start_time": "2023-02-19T15:47:10.589897",
     "status": "completed"
    },
    "tags": []
   },
   "outputs": [
    {
     "data": {
      "text/html": [
       "<div>\n",
       "<style scoped>\n",
       "    .dataframe tbody tr th:only-of-type {\n",
       "        vertical-align: middle;\n",
       "    }\n",
       "\n",
       "    .dataframe tbody tr th {\n",
       "        vertical-align: top;\n",
       "    }\n",
       "\n",
       "    .dataframe thead th {\n",
       "        text-align: right;\n",
       "    }\n",
       "</style>\n",
       "<table border=\"1\" class=\"dataframe\">\n",
       "  <thead>\n",
       "    <tr style=\"text-align: right;\">\n",
       "      <th></th>\n",
       "      <th>no_of_dependents</th>\n",
       "      <th>education</th>\n",
       "      <th>self_employed</th>\n",
       "      <th>income_annum</th>\n",
       "      <th>loan_amount</th>\n",
       "      <th>loan_term</th>\n",
       "      <th>cibil_score</th>\n",
       "      <th>residential_assets_value</th>\n",
       "      <th>commercial_assets_value</th>\n",
       "      <th>luxury_assets_value</th>\n",
       "      <th>bank_asset_value</th>\n",
       "      <th>loan_status</th>\n",
       "    </tr>\n",
       "  </thead>\n",
       "  <tbody>\n",
       "    <tr>\n",
       "      <th>0</th>\n",
       "      <td>2.0</td>\n",
       "      <td>1</td>\n",
       "      <td>0</td>\n",
       "      <td>9600000.0</td>\n",
       "      <td>29900000.0</td>\n",
       "      <td>12.0</td>\n",
       "      <td>778.0</td>\n",
       "      <td>2400000.0</td>\n",
       "      <td>17600000.0</td>\n",
       "      <td>22700000.0</td>\n",
       "      <td>8000000.0</td>\n",
       "      <td>1</td>\n",
       "    </tr>\n",
       "    <tr>\n",
       "      <th>1</th>\n",
       "      <td>0.0</td>\n",
       "      <td>0</td>\n",
       "      <td>1</td>\n",
       "      <td>4100000.0</td>\n",
       "      <td>12200000.0</td>\n",
       "      <td>8.0</td>\n",
       "      <td>417.0</td>\n",
       "      <td>2700000.0</td>\n",
       "      <td>2200000.0</td>\n",
       "      <td>8800000.0</td>\n",
       "      <td>3300000.0</td>\n",
       "      <td>0</td>\n",
       "    </tr>\n",
       "    <tr>\n",
       "      <th>2</th>\n",
       "      <td>3.0</td>\n",
       "      <td>1</td>\n",
       "      <td>0</td>\n",
       "      <td>9100000.0</td>\n",
       "      <td>29700000.0</td>\n",
       "      <td>20.0</td>\n",
       "      <td>506.0</td>\n",
       "      <td>7100000.0</td>\n",
       "      <td>4500000.0</td>\n",
       "      <td>33300000.0</td>\n",
       "      <td>12800000.0</td>\n",
       "      <td>0</td>\n",
       "    </tr>\n",
       "    <tr>\n",
       "      <th>3</th>\n",
       "      <td>3.0</td>\n",
       "      <td>1</td>\n",
       "      <td>0</td>\n",
       "      <td>8200000.0</td>\n",
       "      <td>30700000.0</td>\n",
       "      <td>8.0</td>\n",
       "      <td>467.0</td>\n",
       "      <td>18200000.0</td>\n",
       "      <td>3300000.0</td>\n",
       "      <td>23300000.0</td>\n",
       "      <td>7900000.0</td>\n",
       "      <td>0</td>\n",
       "    </tr>\n",
       "    <tr>\n",
       "      <th>4</th>\n",
       "      <td>5.0</td>\n",
       "      <td>0</td>\n",
       "      <td>1</td>\n",
       "      <td>9800000.0</td>\n",
       "      <td>24200000.0</td>\n",
       "      <td>20.0</td>\n",
       "      <td>382.0</td>\n",
       "      <td>12400000.0</td>\n",
       "      <td>8200000.0</td>\n",
       "      <td>29400000.0</td>\n",
       "      <td>5000000.0</td>\n",
       "      <td>0</td>\n",
       "    </tr>\n",
       "    <tr>\n",
       "      <th>...</th>\n",
       "      <td>...</td>\n",
       "      <td>...</td>\n",
       "      <td>...</td>\n",
       "      <td>...</td>\n",
       "      <td>...</td>\n",
       "      <td>...</td>\n",
       "      <td>...</td>\n",
       "      <td>...</td>\n",
       "      <td>...</td>\n",
       "      <td>...</td>\n",
       "      <td>...</td>\n",
       "      <td>...</td>\n",
       "    </tr>\n",
       "    <tr>\n",
       "      <th>4264</th>\n",
       "      <td>5.0</td>\n",
       "      <td>1</td>\n",
       "      <td>1</td>\n",
       "      <td>1000000.0</td>\n",
       "      <td>2300000.0</td>\n",
       "      <td>12.0</td>\n",
       "      <td>317.0</td>\n",
       "      <td>2800000.0</td>\n",
       "      <td>500000.0</td>\n",
       "      <td>3300000.0</td>\n",
       "      <td>800000.0</td>\n",
       "      <td>0</td>\n",
       "    </tr>\n",
       "    <tr>\n",
       "      <th>4265</th>\n",
       "      <td>0.0</td>\n",
       "      <td>0</td>\n",
       "      <td>1</td>\n",
       "      <td>3300000.0</td>\n",
       "      <td>11300000.0</td>\n",
       "      <td>20.0</td>\n",
       "      <td>559.0</td>\n",
       "      <td>4200000.0</td>\n",
       "      <td>2900000.0</td>\n",
       "      <td>11000000.0</td>\n",
       "      <td>1900000.0</td>\n",
       "      <td>1</td>\n",
       "    </tr>\n",
       "    <tr>\n",
       "      <th>4266</th>\n",
       "      <td>2.0</td>\n",
       "      <td>0</td>\n",
       "      <td>0</td>\n",
       "      <td>6500000.0</td>\n",
       "      <td>23900000.0</td>\n",
       "      <td>18.0</td>\n",
       "      <td>457.0</td>\n",
       "      <td>1200000.0</td>\n",
       "      <td>12400000.0</td>\n",
       "      <td>18100000.0</td>\n",
       "      <td>7300000.0</td>\n",
       "      <td>0</td>\n",
       "    </tr>\n",
       "    <tr>\n",
       "      <th>4267</th>\n",
       "      <td>1.0</td>\n",
       "      <td>0</td>\n",
       "      <td>0</td>\n",
       "      <td>4100000.0</td>\n",
       "      <td>12800000.0</td>\n",
       "      <td>8.0</td>\n",
       "      <td>780.0</td>\n",
       "      <td>8200000.0</td>\n",
       "      <td>700000.0</td>\n",
       "      <td>14100000.0</td>\n",
       "      <td>5800000.0</td>\n",
       "      <td>1</td>\n",
       "    </tr>\n",
       "    <tr>\n",
       "      <th>4268</th>\n",
       "      <td>1.0</td>\n",
       "      <td>1</td>\n",
       "      <td>0</td>\n",
       "      <td>9200000.0</td>\n",
       "      <td>29700000.0</td>\n",
       "      <td>10.0</td>\n",
       "      <td>607.0</td>\n",
       "      <td>17800000.0</td>\n",
       "      <td>11800000.0</td>\n",
       "      <td>35700000.0</td>\n",
       "      <td>12000000.0</td>\n",
       "      <td>1</td>\n",
       "    </tr>\n",
       "  </tbody>\n",
       "</table>\n",
       "<p>4269 rows × 12 columns</p>\n",
       "</div>"
      ],
      "text/plain": [
       "      no_of_dependents  education  self_employed  income_annum  loan_amount  \\\n",
       "0                  2.0          1              0     9600000.0   29900000.0   \n",
       "1                  0.0          0              1     4100000.0   12200000.0   \n",
       "2                  3.0          1              0     9100000.0   29700000.0   \n",
       "3                  3.0          1              0     8200000.0   30700000.0   \n",
       "4                  5.0          0              1     9800000.0   24200000.0   \n",
       "...                ...        ...            ...           ...          ...   \n",
       "4264               5.0          1              1     1000000.0    2300000.0   \n",
       "4265               0.0          0              1     3300000.0   11300000.0   \n",
       "4266               2.0          0              0     6500000.0   23900000.0   \n",
       "4267               1.0          0              0     4100000.0   12800000.0   \n",
       "4268               1.0          1              0     9200000.0   29700000.0   \n",
       "\n",
       "      loan_term  cibil_score  residential_assets_value  \\\n",
       "0          12.0        778.0                 2400000.0   \n",
       "1           8.0        417.0                 2700000.0   \n",
       "2          20.0        506.0                 7100000.0   \n",
       "3           8.0        467.0                18200000.0   \n",
       "4          20.0        382.0                12400000.0   \n",
       "...         ...          ...                       ...   \n",
       "4264       12.0        317.0                 2800000.0   \n",
       "4265       20.0        559.0                 4200000.0   \n",
       "4266       18.0        457.0                 1200000.0   \n",
       "4267        8.0        780.0                 8200000.0   \n",
       "4268       10.0        607.0                17800000.0   \n",
       "\n",
       "      commercial_assets_value  luxury_assets_value  bank_asset_value  \\\n",
       "0                  17600000.0           22700000.0         8000000.0   \n",
       "1                   2200000.0            8800000.0         3300000.0   \n",
       "2                   4500000.0           33300000.0        12800000.0   \n",
       "3                   3300000.0           23300000.0         7900000.0   \n",
       "4                   8200000.0           29400000.0         5000000.0   \n",
       "...                       ...                  ...               ...   \n",
       "4264                 500000.0            3300000.0          800000.0   \n",
       "4265                2900000.0           11000000.0         1900000.0   \n",
       "4266               12400000.0           18100000.0         7300000.0   \n",
       "4267                 700000.0           14100000.0         5800000.0   \n",
       "4268               11800000.0           35700000.0        12000000.0   \n",
       "\n",
       "      loan_status  \n",
       "0               1  \n",
       "1               0  \n",
       "2               0  \n",
       "3               0  \n",
       "4               0  \n",
       "...           ...  \n",
       "4264            0  \n",
       "4265            1  \n",
       "4266            0  \n",
       "4267            1  \n",
       "4268            1  \n",
       "\n",
       "[4269 rows x 12 columns]"
      ]
     },
     "execution_count": 2,
     "metadata": {},
     "output_type": "execute_result"
    }
   ],
   "source": [
    "df=pd.read_csv(\"loan_approval.csv\")\n",
    "df"
   ]
  },
  {
   "cell_type": "markdown",
   "id": "9e5eedb2",
   "metadata": {
    "papermill": {
     "duration": 0.015141,
     "end_time": "2023-02-19T15:47:10.711320",
     "exception": false,
     "start_time": "2023-02-19T15:47:10.696179",
     "status": "completed"
    },
    "tags": []
   },
   "source": [
    "### Understand"
   ]
  },
  {
   "cell_type": "code",
   "execution_count": 3,
   "id": "e8e33a68",
   "metadata": {
    "execution": {
     "iopub.execute_input": "2023-02-19T15:47:10.743819Z",
     "iopub.status.busy": "2023-02-19T15:47:10.743258Z",
     "iopub.status.idle": "2023-02-19T15:47:10.752156Z",
     "shell.execute_reply": "2023-02-19T15:47:10.750616Z"
    },
    "papermill": {
     "duration": 0.027504,
     "end_time": "2023-02-19T15:47:10.754229",
     "exception": false,
     "start_time": "2023-02-19T15:47:10.726725",
     "status": "completed"
    },
    "tags": []
   },
   "outputs": [
    {
     "data": {
      "text/plain": [
       "no_of_dependents            0\n",
       "education                   0\n",
       "self_employed               0\n",
       "income_annum                0\n",
       "loan_amount                 0\n",
       "loan_term                   0\n",
       "cibil_score                 0\n",
       "residential_assets_value    0\n",
       "commercial_assets_value     0\n",
       "luxury_assets_value         0\n",
       "bank_asset_value            0\n",
       "loan_status                 0\n",
       "dtype: int64"
      ]
     },
     "execution_count": 3,
     "metadata": {},
     "output_type": "execute_result"
    }
   ],
   "source": [
    "df.isna().sum()"
   ]
  },
  {
   "cell_type": "code",
   "execution_count": 4,
   "id": "299a8e7f",
   "metadata": {
    "execution": {
     "iopub.execute_input": "2023-02-19T15:47:10.787173Z",
     "iopub.status.busy": "2023-02-19T15:47:10.786755Z",
     "iopub.status.idle": "2023-02-19T15:47:10.820466Z",
     "shell.execute_reply": "2023-02-19T15:47:10.819387Z"
    },
    "papermill": {
     "duration": 0.053227,
     "end_time": "2023-02-19T15:47:10.822882",
     "exception": false,
     "start_time": "2023-02-19T15:47:10.769655",
     "status": "completed"
    },
    "tags": []
   },
   "outputs": [
    {
     "data": {
      "text/html": [
       "<div>\n",
       "<style scoped>\n",
       "    .dataframe tbody tr th:only-of-type {\n",
       "        vertical-align: middle;\n",
       "    }\n",
       "\n",
       "    .dataframe tbody tr th {\n",
       "        vertical-align: top;\n",
       "    }\n",
       "\n",
       "    .dataframe thead th {\n",
       "        text-align: right;\n",
       "    }\n",
       "</style>\n",
       "<table border=\"1\" class=\"dataframe\">\n",
       "  <thead>\n",
       "    <tr style=\"text-align: right;\">\n",
       "      <th></th>\n",
       "      <th>no_of_dependents</th>\n",
       "      <th>education</th>\n",
       "      <th>self_employed</th>\n",
       "      <th>income_annum</th>\n",
       "      <th>loan_amount</th>\n",
       "      <th>loan_term</th>\n",
       "      <th>cibil_score</th>\n",
       "      <th>residential_assets_value</th>\n",
       "      <th>commercial_assets_value</th>\n",
       "      <th>luxury_assets_value</th>\n",
       "      <th>bank_asset_value</th>\n",
       "      <th>loan_status</th>\n",
       "    </tr>\n",
       "  </thead>\n",
       "  <tbody>\n",
       "    <tr>\n",
       "      <th>count</th>\n",
       "      <td>4269.000000</td>\n",
       "      <td>4269.000000</td>\n",
       "      <td>4269.000000</td>\n",
       "      <td>4.269000e+03</td>\n",
       "      <td>4.269000e+03</td>\n",
       "      <td>4269.000000</td>\n",
       "      <td>4269.000000</td>\n",
       "      <td>4.269000e+03</td>\n",
       "      <td>4.269000e+03</td>\n",
       "      <td>4.269000e+03</td>\n",
       "      <td>4.269000e+03</td>\n",
       "      <td>4269.000000</td>\n",
       "    </tr>\n",
       "    <tr>\n",
       "      <th>mean</th>\n",
       "      <td>2.498712</td>\n",
       "      <td>0.502225</td>\n",
       "      <td>0.503631</td>\n",
       "      <td>5.059124e+06</td>\n",
       "      <td>1.513345e+07</td>\n",
       "      <td>10.900445</td>\n",
       "      <td>599.936051</td>\n",
       "      <td>7.472617e+06</td>\n",
       "      <td>4.973155e+06</td>\n",
       "      <td>1.512631e+07</td>\n",
       "      <td>4.976692e+06</td>\n",
       "      <td>0.622160</td>\n",
       "    </tr>\n",
       "    <tr>\n",
       "      <th>std</th>\n",
       "      <td>1.695910</td>\n",
       "      <td>0.500054</td>\n",
       "      <td>0.500045</td>\n",
       "      <td>2.806840e+06</td>\n",
       "      <td>9.043363e+06</td>\n",
       "      <td>5.709187</td>\n",
       "      <td>172.430401</td>\n",
       "      <td>6.503637e+06</td>\n",
       "      <td>4.388966e+06</td>\n",
       "      <td>9.103754e+06</td>\n",
       "      <td>3.250185e+06</td>\n",
       "      <td>0.484904</td>\n",
       "    </tr>\n",
       "    <tr>\n",
       "      <th>min</th>\n",
       "      <td>0.000000</td>\n",
       "      <td>0.000000</td>\n",
       "      <td>0.000000</td>\n",
       "      <td>2.000000e+05</td>\n",
       "      <td>3.000000e+05</td>\n",
       "      <td>2.000000</td>\n",
       "      <td>300.000000</td>\n",
       "      <td>-1.000000e+05</td>\n",
       "      <td>0.000000e+00</td>\n",
       "      <td>3.000000e+05</td>\n",
       "      <td>0.000000e+00</td>\n",
       "      <td>0.000000</td>\n",
       "    </tr>\n",
       "    <tr>\n",
       "      <th>25%</th>\n",
       "      <td>1.000000</td>\n",
       "      <td>0.000000</td>\n",
       "      <td>0.000000</td>\n",
       "      <td>2.700000e+06</td>\n",
       "      <td>7.700000e+06</td>\n",
       "      <td>6.000000</td>\n",
       "      <td>453.000000</td>\n",
       "      <td>2.200000e+06</td>\n",
       "      <td>1.300000e+06</td>\n",
       "      <td>7.500000e+06</td>\n",
       "      <td>2.300000e+06</td>\n",
       "      <td>0.000000</td>\n",
       "    </tr>\n",
       "    <tr>\n",
       "      <th>50%</th>\n",
       "      <td>3.000000</td>\n",
       "      <td>1.000000</td>\n",
       "      <td>1.000000</td>\n",
       "      <td>5.100000e+06</td>\n",
       "      <td>1.450000e+07</td>\n",
       "      <td>10.000000</td>\n",
       "      <td>600.000000</td>\n",
       "      <td>5.600000e+06</td>\n",
       "      <td>3.700000e+06</td>\n",
       "      <td>1.460000e+07</td>\n",
       "      <td>4.600000e+06</td>\n",
       "      <td>1.000000</td>\n",
       "    </tr>\n",
       "    <tr>\n",
       "      <th>75%</th>\n",
       "      <td>4.000000</td>\n",
       "      <td>1.000000</td>\n",
       "      <td>1.000000</td>\n",
       "      <td>7.500000e+06</td>\n",
       "      <td>2.150000e+07</td>\n",
       "      <td>16.000000</td>\n",
       "      <td>748.000000</td>\n",
       "      <td>1.130000e+07</td>\n",
       "      <td>7.600000e+06</td>\n",
       "      <td>2.170000e+07</td>\n",
       "      <td>7.100000e+06</td>\n",
       "      <td>1.000000</td>\n",
       "    </tr>\n",
       "    <tr>\n",
       "      <th>max</th>\n",
       "      <td>5.000000</td>\n",
       "      <td>1.000000</td>\n",
       "      <td>1.000000</td>\n",
       "      <td>9.900000e+06</td>\n",
       "      <td>3.950000e+07</td>\n",
       "      <td>20.000000</td>\n",
       "      <td>900.000000</td>\n",
       "      <td>2.910000e+07</td>\n",
       "      <td>1.940000e+07</td>\n",
       "      <td>3.920000e+07</td>\n",
       "      <td>1.470000e+07</td>\n",
       "      <td>1.000000</td>\n",
       "    </tr>\n",
       "  </tbody>\n",
       "</table>\n",
       "</div>"
      ],
      "text/plain": [
       "       no_of_dependents    education  self_employed  income_annum  \\\n",
       "count       4269.000000  4269.000000    4269.000000  4.269000e+03   \n",
       "mean           2.498712     0.502225       0.503631  5.059124e+06   \n",
       "std            1.695910     0.500054       0.500045  2.806840e+06   \n",
       "min            0.000000     0.000000       0.000000  2.000000e+05   \n",
       "25%            1.000000     0.000000       0.000000  2.700000e+06   \n",
       "50%            3.000000     1.000000       1.000000  5.100000e+06   \n",
       "75%            4.000000     1.000000       1.000000  7.500000e+06   \n",
       "max            5.000000     1.000000       1.000000  9.900000e+06   \n",
       "\n",
       "        loan_amount    loan_term  cibil_score  residential_assets_value  \\\n",
       "count  4.269000e+03  4269.000000  4269.000000              4.269000e+03   \n",
       "mean   1.513345e+07    10.900445   599.936051              7.472617e+06   \n",
       "std    9.043363e+06     5.709187   172.430401              6.503637e+06   \n",
       "min    3.000000e+05     2.000000   300.000000             -1.000000e+05   \n",
       "25%    7.700000e+06     6.000000   453.000000              2.200000e+06   \n",
       "50%    1.450000e+07    10.000000   600.000000              5.600000e+06   \n",
       "75%    2.150000e+07    16.000000   748.000000              1.130000e+07   \n",
       "max    3.950000e+07    20.000000   900.000000              2.910000e+07   \n",
       "\n",
       "       commercial_assets_value  luxury_assets_value  bank_asset_value  \\\n",
       "count             4.269000e+03         4.269000e+03      4.269000e+03   \n",
       "mean              4.973155e+06         1.512631e+07      4.976692e+06   \n",
       "std               4.388966e+06         9.103754e+06      3.250185e+06   \n",
       "min               0.000000e+00         3.000000e+05      0.000000e+00   \n",
       "25%               1.300000e+06         7.500000e+06      2.300000e+06   \n",
       "50%               3.700000e+06         1.460000e+07      4.600000e+06   \n",
       "75%               7.600000e+06         2.170000e+07      7.100000e+06   \n",
       "max               1.940000e+07         3.920000e+07      1.470000e+07   \n",
       "\n",
       "       loan_status  \n",
       "count  4269.000000  \n",
       "mean      0.622160  \n",
       "std       0.484904  \n",
       "min       0.000000  \n",
       "25%       0.000000  \n",
       "50%       1.000000  \n",
       "75%       1.000000  \n",
       "max       1.000000  "
      ]
     },
     "execution_count": 4,
     "metadata": {},
     "output_type": "execute_result"
    }
   ],
   "source": [
    "df.describe()"
   ]
  },
  {
   "cell_type": "code",
   "execution_count": 5,
   "id": "5ac6e95c",
   "metadata": {
    "execution": {
     "iopub.execute_input": "2023-02-19T15:47:10.860112Z",
     "iopub.status.busy": "2023-02-19T15:47:10.859458Z",
     "iopub.status.idle": "2023-02-19T15:47:10.877993Z",
     "shell.execute_reply": "2023-02-19T15:47:10.876517Z"
    },
    "papermill": {
     "duration": 0.040367,
     "end_time": "2023-02-19T15:47:10.881137",
     "exception": false,
     "start_time": "2023-02-19T15:47:10.840770",
     "status": "completed"
    },
    "tags": []
   },
   "outputs": [
    {
     "name": "stdout",
     "output_type": "stream",
     "text": [
      "<class 'pandas.core.frame.DataFrame'>\n",
      "RangeIndex: 4269 entries, 0 to 4268\n",
      "Data columns (total 12 columns):\n",
      " #   Column                    Non-Null Count  Dtype  \n",
      "---  ------                    --------------  -----  \n",
      " 0   no_of_dependents          4269 non-null   float64\n",
      " 1   education                 4269 non-null   int64  \n",
      " 2   self_employed             4269 non-null   int64  \n",
      " 3   income_annum              4269 non-null   float64\n",
      " 4   loan_amount               4269 non-null   float64\n",
      " 5   loan_term                 4269 non-null   float64\n",
      " 6   cibil_score               4269 non-null   float64\n",
      " 7   residential_assets_value  4269 non-null   float64\n",
      " 8   commercial_assets_value   4269 non-null   float64\n",
      " 9   luxury_assets_value       4269 non-null   float64\n",
      " 10  bank_asset_value          4269 non-null   float64\n",
      " 11  loan_status               4269 non-null   int64  \n",
      "dtypes: float64(9), int64(3)\n",
      "memory usage: 400.3 KB\n"
     ]
    }
   ],
   "source": [
    "df.info()"
   ]
  },
  {
   "cell_type": "code",
   "execution_count": 6,
   "id": "46e9b505",
   "metadata": {
    "execution": {
     "iopub.execute_input": "2023-02-19T15:47:10.916102Z",
     "iopub.status.busy": "2023-02-19T15:47:10.914584Z",
     "iopub.status.idle": "2023-02-19T15:47:10.933774Z",
     "shell.execute_reply": "2023-02-19T15:47:10.932361Z"
    },
    "papermill": {
     "duration": 0.039675,
     "end_time": "2023-02-19T15:47:10.936944",
     "exception": false,
     "start_time": "2023-02-19T15:47:10.897269",
     "status": "completed"
    },
    "tags": []
   },
   "outputs": [
    {
     "data": {
      "text/plain": [
       "False    4269\n",
       "dtype: int64"
      ]
     },
     "execution_count": 6,
     "metadata": {},
     "output_type": "execute_result"
    }
   ],
   "source": [
    "df.duplicated().value_counts()"
   ]
  },
  {
   "cell_type": "code",
   "execution_count": 7,
   "id": "64d521b0",
   "metadata": {
    "execution": {
     "iopub.execute_input": "2023-02-19T15:47:10.971683Z",
     "iopub.status.busy": "2023-02-19T15:47:10.971198Z",
     "iopub.status.idle": "2023-02-19T15:47:10.982052Z",
     "shell.execute_reply": "2023-02-19T15:47:10.980626Z"
    },
    "papermill": {
     "duration": 0.031865,
     "end_time": "2023-02-19T15:47:10.985034",
     "exception": false,
     "start_time": "2023-02-19T15:47:10.953169",
     "status": "completed"
    },
    "tags": []
   },
   "outputs": [],
   "source": [
    "df = df.astype(\"int64\")"
   ]
  },
  {
   "cell_type": "code",
   "execution_count": 8,
   "id": "28084ad6",
   "metadata": {
    "execution": {
     "iopub.execute_input": "2023-02-19T15:47:20.519011Z",
     "iopub.status.busy": "2023-02-19T15:47:20.518552Z",
     "iopub.status.idle": "2023-02-19T15:47:20.891407Z",
     "shell.execute_reply": "2023-02-19T15:47:20.890473Z"
    },
    "papermill": {
     "duration": 0.401429,
     "end_time": "2023-02-19T15:47:20.894308",
     "exception": false,
     "start_time": "2023-02-19T15:47:20.492879",
     "status": "completed"
    },
    "tags": []
   },
   "outputs": [
    {
     "data": {
      "text/plain": [
       "<AxesSubplot:>"
      ]
     },
     "execution_count": 8,
     "metadata": {},
     "output_type": "execute_result"
    },
    {
     "data": {
      "image/png": "[encoded data removed]",
      "text/plain": [
       "<Figure size 720x720 with 2 Axes>"
      ]
     },
     "metadata": {
      "needs_background": "light"
     },
     "output_type": "display_data"
    }
   ],
   "source": [
    "fig, ax = plt.subplots(figsize = (10,10))\n",
    "sns.heatmap(df.corr(),annot=True, ax = ax)"
   ]
  },
  {
   "cell_type": "code",
   "execution_count": 9,
   "id": "e23f277f",
   "metadata": {
    "execution": {
     "iopub.execute_input": "2023-02-19T15:47:20.945514Z",
     "iopub.status.busy": "2023-02-19T15:47:20.945054Z",
     "iopub.status.idle": "2023-02-19T15:47:20.954353Z",
     "shell.execute_reply": "2023-02-19T15:47:20.953395Z"
    },
    "papermill": {
     "duration": 0.036898,
     "end_time": "2023-02-19T15:47:20.956407",
     "exception": false,
     "start_time": "2023-02-19T15:47:20.919509",
     "status": "completed"
    },
    "tags": []
   },
   "outputs": [
    {
     "data": {
      "text/plain": [
       "1    2656\n",
       "0    1613\n",
       "Name: loan_status, dtype: int64"
      ]
     },
     "execution_count": 9,
     "metadata": {},
     "output_type": "execute_result"
    }
   ],
   "source": [
    "df.loan_status.value_counts()"
   ]
  },
  {
   "cell_type": "markdown",
   "id": "1f2bcd0f",
   "metadata": {
    "papermill": {
     "duration": 0.026357,
     "end_time": "2023-02-19T15:47:22.267625",
     "exception": false,
     "start_time": "2023-02-19T15:47:22.241268",
     "status": "completed"
    },
    "tags": []
   },
   "source": [
    "### Preprocessing"
   ]
  },
  {
   "cell_type": "code",
   "execution_count": 10,
   "id": "fb70abca",
   "metadata": {},
   "outputs": [
    {
     "data": {
      "text/html": [
       "<div>\n",
       "<style scoped>\n",
       "    .dataframe tbody tr th:only-of-type {\n",
       "        vertical-align: middle;\n",
       "    }\n",
       "\n",
       "    .dataframe tbody tr th {\n",
       "        vertical-align: top;\n",
       "    }\n",
       "\n",
       "    .dataframe thead th {\n",
       "        text-align: right;\n",
       "    }\n",
       "</style>\n",
       "<table border=\"1\" class=\"dataframe\">\n",
       "  <thead>\n",
       "    <tr style=\"text-align: right;\">\n",
       "      <th></th>\n",
       "      <th>no_of_dependents</th>\n",
       "      <th>education</th>\n",
       "      <th>self_employed</th>\n",
       "      <th>income_annum</th>\n",
       "      <th>loan_amount</th>\n",
       "      <th>loan_term</th>\n",
       "      <th>cibil_score</th>\n",
       "      <th>residential_assets_value</th>\n",
       "      <th>commercial_assets_value</th>\n",
       "      <th>luxury_assets_value</th>\n",
       "      <th>bank_asset_value</th>\n",
       "      <th>loan_status</th>\n",
       "    </tr>\n",
       "  </thead>\n",
       "  <tbody>\n",
       "    <tr>\n",
       "      <th>0</th>\n",
       "      <td>0.4</td>\n",
       "      <td>1.0</td>\n",
       "      <td>0.0</td>\n",
       "      <td>0.969072</td>\n",
       "      <td>0.755102</td>\n",
       "      <td>0.555556</td>\n",
       "      <td>0.796667</td>\n",
       "      <td>0.085616</td>\n",
       "      <td>0.907216</td>\n",
       "      <td>0.575835</td>\n",
       "      <td>0.544218</td>\n",
       "      <td>1.0</td>\n",
       "    </tr>\n",
       "    <tr>\n",
       "      <th>1</th>\n",
       "      <td>0.0</td>\n",
       "      <td>0.0</td>\n",
       "      <td>1.0</td>\n",
       "      <td>0.402062</td>\n",
       "      <td>0.303571</td>\n",
       "      <td>0.333333</td>\n",
       "      <td>0.195000</td>\n",
       "      <td>0.095890</td>\n",
       "      <td>0.113402</td>\n",
       "      <td>0.218509</td>\n",
       "      <td>0.224490</td>\n",
       "      <td>0.0</td>\n",
       "    </tr>\n",
       "    <tr>\n",
       "      <th>2</th>\n",
       "      <td>0.6</td>\n",
       "      <td>1.0</td>\n",
       "      <td>0.0</td>\n",
       "      <td>0.917526</td>\n",
       "      <td>0.750000</td>\n",
       "      <td>1.000000</td>\n",
       "      <td>0.343333</td>\n",
       "      <td>0.246575</td>\n",
       "      <td>0.231959</td>\n",
       "      <td>0.848329</td>\n",
       "      <td>0.870748</td>\n",
       "      <td>0.0</td>\n",
       "    </tr>\n",
       "    <tr>\n",
       "      <th>3</th>\n",
       "      <td>0.6</td>\n",
       "      <td>1.0</td>\n",
       "      <td>0.0</td>\n",
       "      <td>0.824742</td>\n",
       "      <td>0.775510</td>\n",
       "      <td>0.333333</td>\n",
       "      <td>0.278333</td>\n",
       "      <td>0.626712</td>\n",
       "      <td>0.170103</td>\n",
       "      <td>0.591260</td>\n",
       "      <td>0.537415</td>\n",
       "      <td>0.0</td>\n",
       "    </tr>\n",
       "    <tr>\n",
       "      <th>4</th>\n",
       "      <td>1.0</td>\n",
       "      <td>0.0</td>\n",
       "      <td>1.0</td>\n",
       "      <td>0.989691</td>\n",
       "      <td>0.609694</td>\n",
       "      <td>1.000000</td>\n",
       "      <td>0.136667</td>\n",
       "      <td>0.428082</td>\n",
       "      <td>0.422680</td>\n",
       "      <td>0.748072</td>\n",
       "      <td>0.340136</td>\n",
       "      <td>0.0</td>\n",
       "    </tr>\n",
       "  </tbody>\n",
       "</table>\n",
       "</div>"
      ],
      "text/plain": [
       "   no_of_dependents  education  self_employed  income_annum  loan_amount  \\\n",
       "0               0.4        1.0            0.0      0.969072     0.755102   \n",
       "1               0.0        0.0            1.0      0.402062     0.303571   \n",
       "2               0.6        1.0            0.0      0.917526     0.750000   \n",
       "3               0.6        1.0            0.0      0.824742     0.775510   \n",
       "4               1.0        0.0            1.0      0.989691     0.609694   \n",
       "\n",
       "   loan_term  cibil_score  residential_assets_value  commercial_assets_value  \\\n",
       "0   0.555556     0.796667                  0.085616                 0.907216   \n",
       "1   0.333333     0.195000                  0.095890                 0.113402   \n",
       "2   1.000000     0.343333                  0.246575                 0.231959   \n",
       "3   0.333333     0.278333                  0.626712                 0.170103   \n",
       "4   1.000000     0.136667                  0.428082                 0.422680   \n",
       "\n",
       "   luxury_assets_value  bank_asset_value  loan_status  \n",
       "0             0.575835          0.544218          1.0  \n",
       "1             0.218509          0.224490          0.0  \n",
       "2             0.848329          0.870748          0.0  \n",
       "3             0.591260          0.537415          0.0  \n",
       "4             0.748072          0.340136          0.0  "
      ]
     },
     "execution_count": 10,
     "metadata": {},
     "output_type": "execute_result"
    }
   ],
   "source": [
    "df_n = df.copy()\n",
    "for i in df_n.columns:\n",
    "    df_n[i] = (df_n[i] - df_n[i].min()) / (df_n[i].max() - df_n[i].min())\n",
    "df_n.head()"
   ]
  },
  {
   "cell_type": "code",
   "execution_count": 11,
   "id": "d84a95e3",
   "metadata": {},
   "outputs": [
    {
     "data": {
      "text/html": [
       "<div>\n",
       "<style scoped>\n",
       "    .dataframe tbody tr th:only-of-type {\n",
       "        vertical-align: middle;\n",
       "    }\n",
       "\n",
       "    .dataframe tbody tr th {\n",
       "        vertical-align: top;\n",
       "    }\n",
       "\n",
       "    .dataframe thead th {\n",
       "        text-align: right;\n",
       "    }\n",
       "</style>\n",
       "<table border=\"1\" class=\"dataframe\">\n",
       "  <thead>\n",
       "    <tr style=\"text-align: right;\">\n",
       "      <th></th>\n",
       "      <th>no_of_dependents</th>\n",
       "      <th>education</th>\n",
       "      <th>self_employed</th>\n",
       "      <th>income_annum</th>\n",
       "      <th>loan_amount</th>\n",
       "      <th>loan_term</th>\n",
       "      <th>cibil_score</th>\n",
       "      <th>residential_assets_value</th>\n",
       "      <th>commercial_assets_value</th>\n",
       "      <th>luxury_assets_value</th>\n",
       "      <th>bank_asset_value</th>\n",
       "      <th>loan_status</th>\n",
       "    </tr>\n",
       "  </thead>\n",
       "  <tbody>\n",
       "    <tr>\n",
       "      <th>0</th>\n",
       "      <td>0.4</td>\n",
       "      <td>1.0</td>\n",
       "      <td>0.0</td>\n",
       "      <td>0.969072</td>\n",
       "      <td>0.755102</td>\n",
       "      <td>0.555556</td>\n",
       "      <td>0.796667</td>\n",
       "      <td>0.085616</td>\n",
       "      <td>0.907216</td>\n",
       "      <td>0.575835</td>\n",
       "      <td>0.544218</td>\n",
       "      <td>1</td>\n",
       "    </tr>\n",
       "    <tr>\n",
       "      <th>1</th>\n",
       "      <td>0.0</td>\n",
       "      <td>0.0</td>\n",
       "      <td>1.0</td>\n",
       "      <td>0.402062</td>\n",
       "      <td>0.303571</td>\n",
       "      <td>0.333333</td>\n",
       "      <td>0.195000</td>\n",
       "      <td>0.095890</td>\n",
       "      <td>0.113402</td>\n",
       "      <td>0.218509</td>\n",
       "      <td>0.224490</td>\n",
       "      <td>0</td>\n",
       "    </tr>\n",
       "    <tr>\n",
       "      <th>2</th>\n",
       "      <td>0.6</td>\n",
       "      <td>1.0</td>\n",
       "      <td>0.0</td>\n",
       "      <td>0.917526</td>\n",
       "      <td>0.750000</td>\n",
       "      <td>1.000000</td>\n",
       "      <td>0.343333</td>\n",
       "      <td>0.246575</td>\n",
       "      <td>0.231959</td>\n",
       "      <td>0.848329</td>\n",
       "      <td>0.870748</td>\n",
       "      <td>0</td>\n",
       "    </tr>\n",
       "    <tr>\n",
       "      <th>3</th>\n",
       "      <td>0.6</td>\n",
       "      <td>1.0</td>\n",
       "      <td>0.0</td>\n",
       "      <td>0.824742</td>\n",
       "      <td>0.775510</td>\n",
       "      <td>0.333333</td>\n",
       "      <td>0.278333</td>\n",
       "      <td>0.626712</td>\n",
       "      <td>0.170103</td>\n",
       "      <td>0.591260</td>\n",
       "      <td>0.537415</td>\n",
       "      <td>0</td>\n",
       "    </tr>\n",
       "    <tr>\n",
       "      <th>4</th>\n",
       "      <td>1.0</td>\n",
       "      <td>0.0</td>\n",
       "      <td>1.0</td>\n",
       "      <td>0.989691</td>\n",
       "      <td>0.609694</td>\n",
       "      <td>1.000000</td>\n",
       "      <td>0.136667</td>\n",
       "      <td>0.428082</td>\n",
       "      <td>0.422680</td>\n",
       "      <td>0.748072</td>\n",
       "      <td>0.340136</td>\n",
       "      <td>0</td>\n",
       "    </tr>\n",
       "  </tbody>\n",
       "</table>\n",
       "</div>"
      ],
      "text/plain": [
       "   no_of_dependents  education  self_employed  income_annum  loan_amount  \\\n",
       "0               0.4        1.0            0.0      0.969072     0.755102   \n",
       "1               0.0        0.0            1.0      0.402062     0.303571   \n",
       "2               0.6        1.0            0.0      0.917526     0.750000   \n",
       "3               0.6        1.0            0.0      0.824742     0.775510   \n",
       "4               1.0        0.0            1.0      0.989691     0.609694   \n",
       "\n",
       "   loan_term  cibil_score  residential_assets_value  commercial_assets_value  \\\n",
       "0   0.555556     0.796667                  0.085616                 0.907216   \n",
       "1   0.333333     0.195000                  0.095890                 0.113402   \n",
       "2   1.000000     0.343333                  0.246575                 0.231959   \n",
       "3   0.333333     0.278333                  0.626712                 0.170103   \n",
       "4   1.000000     0.136667                  0.428082                 0.422680   \n",
       "\n",
       "   luxury_assets_value  bank_asset_value  loan_status  \n",
       "0             0.575835          0.544218            1  \n",
       "1             0.218509          0.224490            0  \n",
       "2             0.848329          0.870748            0  \n",
       "3             0.591260          0.537415            0  \n",
       "4             0.748072          0.340136            0  "
      ]
     },
     "execution_count": 11,
     "metadata": {},
     "output_type": "execute_result"
    }
   ],
   "source": [
    "df_n.loan_status = df_n.loan_status.astype('int64')\n",
    "df_n.head()"
   ]
  },
  {
   "cell_type": "code",
   "execution_count": 12,
   "id": "e6893067",
   "metadata": {},
   "outputs": [],
   "source": [
    "x=df_n.drop('loan_status',axis=1)\n",
    "y=df_n.loan_status"
   ]
  },
  {
   "cell_type": "code",
   "execution_count": 13,
   "id": "04a7320c",
   "metadata": {},
   "outputs": [
    {
     "data": {
      "text/html": [
       "<div>\n",
       "<style scoped>\n",
       "    .dataframe tbody tr th:only-of-type {\n",
       "        vertical-align: middle;\n",
       "    }\n",
       "\n",
       "    .dataframe tbody tr th {\n",
       "        vertical-align: top;\n",
       "    }\n",
       "\n",
       "    .dataframe thead th {\n",
       "        text-align: right;\n",
       "    }\n",
       "</style>\n",
       "<table border=\"1\" class=\"dataframe\">\n",
       "  <thead>\n",
       "    <tr style=\"text-align: right;\">\n",
       "      <th></th>\n",
       "      <th>no_of_dependents</th>\n",
       "      <th>education</th>\n",
       "      <th>self_employed</th>\n",
       "      <th>income_annum</th>\n",
       "      <th>loan_amount</th>\n",
       "      <th>loan_term</th>\n",
       "      <th>cibil_score</th>\n",
       "      <th>residential_assets_value</th>\n",
       "      <th>commercial_assets_value</th>\n",
       "      <th>luxury_assets_value</th>\n",
       "      <th>bank_asset_value</th>\n",
       "    </tr>\n",
       "  </thead>\n",
       "  <tbody>\n",
       "    <tr>\n",
       "      <th>0</th>\n",
       "      <td>0.4</td>\n",
       "      <td>1.0</td>\n",
       "      <td>0.0</td>\n",
       "      <td>0.969072</td>\n",
       "      <td>0.755102</td>\n",
       "      <td>0.555556</td>\n",
       "      <td>0.796667</td>\n",
       "      <td>0.085616</td>\n",
       "      <td>0.907216</td>\n",
       "      <td>0.575835</td>\n",
       "      <td>0.544218</td>\n",
       "    </tr>\n",
       "    <tr>\n",
       "      <th>1</th>\n",
       "      <td>0.0</td>\n",
       "      <td>0.0</td>\n",
       "      <td>1.0</td>\n",
       "      <td>0.402062</td>\n",
       "      <td>0.303571</td>\n",
       "      <td>0.333333</td>\n",
       "      <td>0.195000</td>\n",
       "      <td>0.095890</td>\n",
       "      <td>0.113402</td>\n",
       "      <td>0.218509</td>\n",
       "      <td>0.224490</td>\n",
       "    </tr>\n",
       "    <tr>\n",
       "      <th>2</th>\n",
       "      <td>0.6</td>\n",
       "      <td>1.0</td>\n",
       "      <td>0.0</td>\n",
       "      <td>0.917526</td>\n",
       "      <td>0.750000</td>\n",
       "      <td>1.000000</td>\n",
       "      <td>0.343333</td>\n",
       "      <td>0.246575</td>\n",
       "      <td>0.231959</td>\n",
       "      <td>0.848329</td>\n",
       "      <td>0.870748</td>\n",
       "    </tr>\n",
       "    <tr>\n",
       "      <th>3</th>\n",
       "      <td>0.6</td>\n",
       "      <td>1.0</td>\n",
       "      <td>0.0</td>\n",
       "      <td>0.824742</td>\n",
       "      <td>0.775510</td>\n",
       "      <td>0.333333</td>\n",
       "      <td>0.278333</td>\n",
       "      <td>0.626712</td>\n",
       "      <td>0.170103</td>\n",
       "      <td>0.591260</td>\n",
       "      <td>0.537415</td>\n",
       "    </tr>\n",
       "    <tr>\n",
       "      <th>4</th>\n",
       "      <td>1.0</td>\n",
       "      <td>0.0</td>\n",
       "      <td>1.0</td>\n",
       "      <td>0.989691</td>\n",
       "      <td>0.609694</td>\n",
       "      <td>1.000000</td>\n",
       "      <td>0.136667</td>\n",
       "      <td>0.428082</td>\n",
       "      <td>0.422680</td>\n",
       "      <td>0.748072</td>\n",
       "      <td>0.340136</td>\n",
       "    </tr>\n",
       "  </tbody>\n",
       "</table>\n",
       "</div>"
      ],
      "text/plain": [
       "   no_of_dependents  education  self_employed  income_annum  loan_amount  \\\n",
       "0               0.4        1.0            0.0      0.969072     0.755102   \n",
       "1               0.0        0.0            1.0      0.402062     0.303571   \n",
       "2               0.6        1.0            0.0      0.917526     0.750000   \n",
       "3               0.6        1.0            0.0      0.824742     0.775510   \n",
       "4               1.0        0.0            1.0      0.989691     0.609694   \n",
       "\n",
       "   loan_term  cibil_score  residential_assets_value  commercial_assets_value  \\\n",
       "0   0.555556     0.796667                  0.085616                 0.907216   \n",
       "1   0.333333     0.195000                  0.095890                 0.113402   \n",
       "2   1.000000     0.343333                  0.246575                 0.231959   \n",
       "3   0.333333     0.278333                  0.626712                 0.170103   \n",
       "4   1.000000     0.136667                  0.428082                 0.422680   \n",
       "\n",
       "   luxury_assets_value  bank_asset_value  \n",
       "0             0.575835          0.544218  \n",
       "1             0.218509          0.224490  \n",
       "2             0.848329          0.870748  \n",
       "3             0.591260          0.537415  \n",
       "4             0.748072          0.340136  "
      ]
     },
     "execution_count": 13,
     "metadata": {},
     "output_type": "execute_result"
    }
   ],
   "source": [
    "x.head()"
   ]
  },
  {
   "cell_type": "code",
   "execution_count": 14,
   "id": "b32929ce",
   "metadata": {},
   "outputs": [
    {
     "data": {
      "text/plain": [
       "0    1\n",
       "1    0\n",
       "2    0\n",
       "3    0\n",
       "4    0\n",
       "Name: loan_status, dtype: int64"
      ]
     },
     "execution_count": 14,
     "metadata": {},
     "output_type": "execute_result"
    }
   ],
   "source": [
    "y.head()"
   ]
  },
  {
   "cell_type": "markdown",
   "id": "4dda1515",
   "metadata": {
    "papermill": {
     "duration": 0.026028,
     "end_time": "2023-02-19T15:47:22.553368",
     "exception": false,
     "start_time": "2023-02-19T15:47:22.527340",
     "status": "completed"
    },
    "tags": []
   },
   "source": [
    "## Build Model"
   ]
  },
  {
   "cell_type": "code",
   "execution_count": 15,
   "id": "2d5ae73e",
   "metadata": {
    "execution": {
     "iopub.execute_input": "2023-02-19T15:47:22.610774Z",
     "iopub.status.busy": "2023-02-19T15:47:22.610310Z",
     "iopub.status.idle": "2023-02-19T15:47:22.615833Z",
     "shell.execute_reply": "2023-02-19T15:47:22.614498Z"
    },
    "papermill": {
     "duration": 0.036913,
     "end_time": "2023-02-19T15:47:22.617780",
     "exception": false,
     "start_time": "2023-02-19T15:47:22.580867",
     "status": "completed"
    },
    "tags": []
   },
   "outputs": [],
   "source": [
    "import warnings\n",
    "warnings.simplefilter('ignore')"
   ]
  },
  {
   "cell_type": "code",
   "execution_count": 16,
   "id": "8961a2e7",
   "metadata": {
    "execution": {
     "iopub.execute_input": "2023-02-19T15:47:22.674601Z",
     "iopub.status.busy": "2023-02-19T15:47:22.674092Z",
     "iopub.status.idle": "2023-02-19T15:47:22.740529Z",
     "shell.execute_reply": "2023-02-19T15:47:22.739591Z"
    },
    "papermill": {
     "duration": 0.097834,
     "end_time": "2023-02-19T15:47:22.742494",
     "exception": false,
     "start_time": "2023-02-19T15:47:22.644660",
     "status": "completed"
    },
    "tags": []
   },
   "outputs": [
    {
     "name": "stdout",
     "output_type": "stream",
     "text": [
      "(3415, 11)\n",
      "(854, 11)\n",
      "(3415,)\n",
      "(854,)\n"
     ]
    }
   ],
   "source": [
    "from sklearn.model_selection import train_test_split\n",
    "\n",
    "x_tr,x_te,y_tr,y_te = train_test_split(x,y,test_size=0.2,random_state=6)\n",
    "\n",
    "for l in x_tr,x_te,y_tr,y_te:\n",
    "    print(l.shape)"
   ]
  },
  {
   "cell_type": "code",
   "execution_count": 17,
   "id": "4520f83d",
   "metadata": {
    "execution": {
     "iopub.execute_input": "2023-02-19T15:47:22.798345Z",
     "iopub.status.busy": "2023-02-19T15:47:22.797752Z",
     "iopub.status.idle": "2023-02-19T15:47:23.139304Z",
     "shell.execute_reply": "2023-02-19T15:47:23.138299Z"
    },
    "papermill": {
     "duration": 0.373201,
     "end_time": "2023-02-19T15:47:23.141968",
     "exception": false,
     "start_time": "2023-02-19T15:47:22.768767",
     "status": "completed"
    },
    "tags": []
   },
   "outputs": [],
   "source": [
    "from sklearn.ensemble import RandomForestClassifier,AdaBoostClassifier\n",
    "from sklearn.linear_model import LogisticRegression\n",
    "from sklearn.neighbors import KNeighborsClassifier\n",
    "from sklearn.svm import SVC\n",
    "from xgboost import XGBClassifier\n",
    "\n",
    "\n",
    "def df_clfs(x_train=x_tr,y_train=y_tr,x_test=x_te,y_test=y_te,\n",
    "            classifier=[LogisticRegression(max_iter=1000),KNeighborsClassifier(),SVC(),RandomForestClassifier(),\n",
    "                        AdaBoostClassifier(),XGBClassifier()]):\n",
    "    \"\"\"\n",
    "    Function To Create Plot For Score of Classifiers with No Tunning\n",
    "    \"\"\"\n",
    "    b_s={}\n",
    "    for clf in classifier:\n",
    "        \n",
    "        clf.fit(x_train,y_train)\n",
    "        b_s[f\"{clf}\".split(\"(\")[0]+\" : (\"+f\"{clf.score(x_test,y_test)}\"[:4]+\")\"]=clf.score(x_test,y_test)\n",
    "        clfs=pd.DataFrame(b_s,index=[\"Scores\"])\n",
    "        plt.barh(clfs.columns,clfs.loc['Scores'],align=\"center\",color='orange')"
   ]
  },
  {
   "cell_type": "code",
   "execution_count": 18,
   "id": "9ca771b8",
   "metadata": {
    "execution": {
     "iopub.execute_input": "2023-02-19T15:47:23.198860Z",
     "iopub.status.busy": "2023-02-19T15:47:23.198227Z",
     "iopub.status.idle": "2023-02-19T15:47:29.529568Z",
     "shell.execute_reply": "2023-02-19T15:47:29.528610Z"
    },
    "papermill": {
     "duration": 6.36313,
     "end_time": "2023-02-19T15:47:29.531767",
     "exception": false,
     "start_time": "2023-02-19T15:47:23.168637",
     "status": "completed"
    },
    "tags": []
   },
   "outputs": [
    {
     "data": {
      "image/png": "[encoded data removed]",
      "text/plain": [
       "<Figure size 432x288 with 1 Axes>"
      ]
     },
     "metadata": {
      "needs_background": "light"
     },
     "output_type": "display_data"
    }
   ],
   "source": [
    "df_clfs()"
   ]
  },
  {
   "cell_type": "code",
   "execution_count": 19,
   "id": "ed4fb9ed",
   "metadata": {
    "execution": {
     "iopub.execute_input": "2023-02-19T15:47:29.589596Z",
     "iopub.status.busy": "2023-02-19T15:47:29.588870Z",
     "iopub.status.idle": "2023-02-19T15:47:59.274421Z",
     "shell.execute_reply": "2023-02-19T15:47:59.273512Z"
    },
    "papermill": {
     "duration": 29.716852,
     "end_time": "2023-02-19T15:47:59.276314",
     "exception": false,
     "start_time": "2023-02-19T15:47:29.559462",
     "status": "completed"
    },
    "scrolled": true,
    "tags": []
   },
   "outputs": [
    {
     "data": {
      "image/png": "[encoded data removed]",
      "text/plain": [
       "<Figure size 432x288 with 1 Axes>"
      ]
     },
     "metadata": {
      "needs_background": "light"
     },
     "output_type": "display_data"
    }
   ],
   "source": [
    "from sklearn.model_selection import cross_val_score\n",
    "\n",
    "def rec_clfs(x,y,classifier=[LogisticRegression(max_iter=1000),KNeighborsClassifier(),\n",
    "                             SVC(),RandomForestClassifier(),AdaBoostClassifier(),XGBClassifier()]):\n",
    "    \"\"\"\n",
    "    Function To Create Plot From Mean Of Cross Validation Scores `Recall` of Classifiers with No Tunning\n",
    "    \"\"\"\n",
    "    b_s={}\n",
    "    for clf in classifier:\n",
    "        val=np.mean(cross_val_score(clf,x,y,scoring=\"recall\"))\n",
    "        b_s[f\"{clf}\".split(\"(\")[0]+\" : (\"+f\"{val}\"[:4]+\")\"]=val\n",
    "        clfs=pd.DataFrame(b_s,index=[\"Scores\"])\n",
    "        plt.barh(clfs.columns,clfs.loc['Scores'],align=\"center\",color='orange')\n",
    "\n",
    "rec_clfs(x,y)"
   ]
  },
  {
   "cell_type": "code",
   "execution_count": 20,
   "id": "e03976f5",
   "metadata": {},
   "outputs": [
    {
     "data": {
      "image/png": "[encoded data removed]",
      "text/plain": [
       "<Figure size 432x288 with 1 Axes>"
      ]
     },
     "metadata": {
      "needs_background": "light"
     },
     "output_type": "display_data"
    }
   ],
   "source": [
    "from sklearn.model_selection import cross_val_score\n",
    "\n",
    "def f1_clfs(x,y,classifier=[LogisticRegression(max_iter=1000),KNeighborsClassifier(),\n",
    "                             SVC(),RandomForestClassifier(),AdaBoostClassifier(),XGBClassifier()]):\n",
    "    \"\"\"\n",
    "    Function To Create Plot From Mean Of Cross Validation Scores `F1_Macro` of Classifiers with No Tunning\n",
    "    \"\"\"\n",
    "    b_s={}\n",
    "    for clf in classifier:\n",
    "        val=np.mean(cross_val_score(clf,x,y,scoring=\"f1_macro\"))\n",
    "        b_s[f\"{clf}\".split(\"(\")[0]+\" : (\"+f\"{val}\"[:4]+\")\"]=val\n",
    "        clfs=pd.DataFrame(b_s,index=[\"Scores\"])\n",
    "        plt.barh(clfs.columns,clfs.loc['Scores'],align=\"center\",color='orange')\n",
    "\n",
    "f1_clfs(x,y)"
   ]
  },
  {
   "cell_type": "code",
   "execution_count": 21,
   "id": "8c43206c",
   "metadata": {},
   "outputs": [
    {
     "data": {
      "image/png": "[encoded data removed]",
      "text/plain": [
       "<Figure size 432x288 with 1 Axes>"
      ]
     },
     "metadata": {
      "needs_background": "light"
     },
     "output_type": "display_data"
    }
   ],
   "source": [
    "from sklearn.model_selection import cross_val_score\n",
    "\n",
    "def prec_clfs(x,y,classifier=[LogisticRegression(max_iter=1000),KNeighborsClassifier(),\n",
    "                             SVC(),RandomForestClassifier(),AdaBoostClassifier(),XGBClassifier()]):\n",
    "    \"\"\"\n",
    "    Function To Create Plot From Mean Of Cross Validation Scores `Precision` of Classifiers with No Tunning\n",
    "    \"\"\"\n",
    "    b_s={}\n",
    "    for clf in classifier:\n",
    "        val=np.mean(cross_val_score(clf,x,y,scoring=\"precision\"))\n",
    "        b_s[f\"{clf}\".split(\"(\")[0]+\" : (\"+f\"{val}\"[:4]+\")\"]=val\n",
    "        clfs=pd.DataFrame(b_s,index=[\"Scores\"])\n",
    "        plt.barh(clfs.columns,clfs.loc['Scores'],align=\"center\",color='orange')\n",
    "\n",
    "prec_clfs(x,y)"
   ]
  },
  {
   "cell_type": "code",
   "execution_count": 22,
   "id": "8bc9feef",
   "metadata": {},
   "outputs": [
    {
     "data": {
      "image/png": "[encoded data removed]",
      "text/plain": [
       "<Figure size 432x288 with 1 Axes>"
      ]
     },
     "metadata": {
      "needs_background": "light"
     },
     "output_type": "display_data"
    }
   ],
   "source": [
    "from sklearn.model_selection import cross_val_score\n",
    "\n",
    "def roc_clfs(x,y,classifier=[LogisticRegression(max_iter=1000),KNeighborsClassifier(),\n",
    "                             SVC(),RandomForestClassifier(),AdaBoostClassifier(),XGBClassifier()]):\n",
    "    \"\"\"\n",
    "    Function To Create Plot From Mean Of Cross Validation Scores `ROC_AUC` of Classifiers with No Tunning\n",
    "    \"\"\"\n",
    "    b_s={}\n",
    "    for clf in classifier:\n",
    "        val=np.mean(cross_val_score(clf,x,y,scoring=\"roc_auc\"))\n",
    "        b_s[f\"{clf}\".split(\"(\")[0]+\" : (\"+f\"{val}\"[:4]+\")\"]=val\n",
    "        clfs=pd.DataFrame(b_s,index=[\"Scores\"])\n",
    "        plt.barh(clfs.columns,clfs.loc['Scores'],align=\"center\",color='orange')\n",
    "\n",
    "roc_clfs(x,y)"
   ]
  },
  {
   "cell_type": "markdown",
   "id": "f0dcfda6",
   "metadata": {},
   "source": [
    "### Results and Discussion\n",
    "* Initial cleaning and processing of the dataset was performed using RapidMiner TurboPrep\n",
    "* The data was further normalized using MinMax Normalization technique which presented all the values between 0 and 1\n",
    "* Dataset was classified using 6 classifiers: XGBClassifier, AdaBoostClassifier, RandomForestClassifier, SVC, KNeighboursClassifier, and LogisticRegression\n",
    "* No hypertuning was performed due to accuracy results being greater than 0.95 for most classifiers\n",
    "* XGBClassifier performed slightly better than the other classifiers across metrics such as Recall, Precision, F1_Macro and ROC_AUC scores\n",
    "* KNeighboursClassifier performed slightly worse than the other classifiers across metrics such as Recall, Precision, F1_Macro and ROC_AUC scores"
   ]
  }
 ],
 "metadata": {
  "kernelspec": {
   "display_name": "Python 3",
   "language": "python",
   "name": "python3"
  },
  "language_info": {
   "codemirror_mode": {
    "name": "ipython",
    "version": 3
   },
   "file_extension": ".py",
   "mimetype": "text/x-python",
   "name": "python",
   "nbconvert_exporter": "python",
   "pygments_lexer": "ipython3",
   "version": "3.8.8"
  },
  "papermill": {
   "default_parameters": {},
   "duration": 6344.448226,
   "end_time": "2023-02-19T17:32:46.007910",
   "environment_variables": {},
   "exception": null,
   "input_path": "__notebook__.ipynb",
   "output_path": "__notebook__.ipynb",
   "parameters": {},
   "start_time": "2023-02-19T15:47:01.559684",
   "version": "2.3.4"
  }
 },
 "nbformat": 4,
 "nbformat_minor": 5
}
